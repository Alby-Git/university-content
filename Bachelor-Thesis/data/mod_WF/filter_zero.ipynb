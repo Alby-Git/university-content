{
 "cells": [
  {
   "cell_type": "code",
   "execution_count": 1,
   "metadata": {},
   "outputs": [
    {
     "name": "stdout",
     "output_type": "stream",
     "text": [
      "File not found: Bracken_PlusPF_Capped_8_Kraken_style_report\n",
      "File not found: Bracken_PlusPF_Capped_16_Kraken_style_report\n",
      "Processed Bracken_PlusPF_Kraken_style_report.tabular -> Bracken_PlusPF_Kraken_style_report_filtered.tabular\n",
      "Processed Kraken2_PlusPF_Report.tabular -> Kraken2_PlusPF_Report_filtered.tabular\n",
      "Processed Kraken2_PlusPF_Capped16_Report.tabular -> Kraken2_PlusPF_Capped16_Report_filtered.tabular\n",
      "Processed Kraken2_PlusPF_Capped8_Report.tabular -> Kraken2_PlusPF_Capped8_Report_filtered.tabular\n"
     ]
    }
   ],
   "source": [
    "import os\n",
    "\n",
    "def filter_zero_abundance(input_file, output_file):\n",
    "    \"\"\"Filter out lines where the first column is '0.00'.\"\"\"\n",
    "    with open(input_file, 'r') as file:\n",
    "        lines = file.readlines()\n",
    "\n",
    "    with open(output_file, 'w') as file:\n",
    "        for line in lines:\n",
    "            if not line.strip().startswith('0.00'):\n",
    "                file.write(line)\n",
    "\n",
    "def process_files(file_list):\n",
    "    \"\"\"Process multiple files to remove lines with '0.00' in the first column.\"\"\"\n",
    "    for file_name in file_list:\n",
    "        # Ensure the file exists to avoid errors\n",
    "        if os.path.exists(file_name):\n",
    "            # Generate a new file name for the filtered output\n",
    "            base_name, extension = os.path.splitext(file_name)\n",
    "            output_file_name = f\"{base_name}_filtered{extension}\"\n",
    "            \n",
    "            # Filter the file\n",
    "            filter_zero_abundance(file_name, output_file_name)\n",
    "            print(f\"Processed {file_name} -> {output_file_name}\")\n",
    "        else:\n",
    "            print(f\"File not found: {file_name}\")\n",
    "\n",
    "# List of input files to process\n",
    "input_files = ['Bracken_PlusPF_Capped_8_Kraken_style_report.tabular', 'Bracken_PlusPF_Capped_16_Kraken_style_report.tabular', 'Bracken_PlusPF_Kraken_style_report.tabular', \"Kraken2_PlusPF_Report.tabular\", \"Kraken2_PlusPF_Capped16_Report.tabular\", \"Kraken2_PlusPF_Capped8_Report.tabular\"]  # Update with your actual file names\n",
    "\n",
    "# Process all listed files\n",
    "process_files(input_files)\n"
   ]
  }
 ],
 "metadata": {
  "kernelspec": {
   "display_name": "Python 3",
   "language": "python",
   "name": "python3"
  },
  "language_info": {
   "codemirror_mode": {
    "name": "ipython",
    "version": 3
   },
   "file_extension": ".py",
   "mimetype": "text/x-python",
   "name": "python",
   "nbconvert_exporter": "python",
   "pygments_lexer": "ipython3",
   "version": "3.8.10"
  }
 },
 "nbformat": 4,
 "nbformat_minor": 2
}
