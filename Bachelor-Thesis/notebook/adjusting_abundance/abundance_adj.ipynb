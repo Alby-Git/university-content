{
 "cells": [
  {
   "cell_type": "markdown",
   "metadata": {},
   "source": [
    "# Define file paths\n",
    "gold_standard_file = 'data/goldstandard_low_1.profile.txt'\n",
    "kraken_bracken_file = 'data/B_PlusPF'"
   ]
  },
  {
   "cell_type": "code",
   "execution_count": 28,
   "metadata": {},
   "outputs": [
    {
     "ename": "FileNotFoundError",
     "evalue": "[Errno 2] No such file or directory: '/mnt/data/goldstandard_low_1.profile.txt'",
     "output_type": "error",
     "traceback": [
      "\u001b[0;31m---------------------------------------------------------------------------\u001b[0m",
      "\u001b[0;31mFileNotFoundError\u001b[0m                         Traceback (most recent call last)",
      "Cell \u001b[0;32mIn[28], line 20\u001b[0m\n\u001b[1;32m     18\u001b[0m \u001b[38;5;66;03m# Read the gold standard file\u001b[39;00m\n\u001b[1;32m     19\u001b[0m gold_standard_path \u001b[38;5;241m=\u001b[39m \u001b[38;5;124m'\u001b[39m\u001b[38;5;124m/mnt/data/goldstandard_low_1.profile.txt\u001b[39m\u001b[38;5;124m'\u001b[39m\n\u001b[0;32m---> 20\u001b[0m gold_standard \u001b[38;5;241m=\u001b[39m \u001b[43mread_data\u001b[49m\u001b[43m(\u001b[49m\u001b[43mgold_standard_path\u001b[49m\u001b[43m)\u001b[49m\n\u001b[1;32m     22\u001b[0m \u001b[38;5;66;03m# Ensure TAXID is of integer type in the gold standard DataFrame\u001b[39;00m\n\u001b[1;32m     23\u001b[0m gold_standard[\u001b[38;5;124m'\u001b[39m\u001b[38;5;124mTAXID\u001b[39m\u001b[38;5;124m'\u001b[39m] \u001b[38;5;241m=\u001b[39m gold_standard[\u001b[38;5;124m'\u001b[39m\u001b[38;5;124mTAXID\u001b[39m\u001b[38;5;124m'\u001b[39m]\u001b[38;5;241m.\u001b[39mastype(\u001b[38;5;28mint\u001b[39m)\n",
      "Cell \u001b[0;32mIn[28], line 7\u001b[0m, in \u001b[0;36mread_data\u001b[0;34m(file_path)\u001b[0m\n\u001b[1;32m      5\u001b[0m \u001b[38;5;28;01mdef\u001b[39;00m \u001b[38;5;21mread_data\u001b[39m(file_path):\n\u001b[1;32m      6\u001b[0m     \u001b[38;5;66;03m# Skip metadata lines and read the file\u001b[39;00m\n\u001b[0;32m----> 7\u001b[0m     \u001b[38;5;28;01mwith\u001b[39;00m \u001b[38;5;28;43mopen\u001b[39;49m\u001b[43m(\u001b[49m\u001b[43mfile_path\u001b[49m\u001b[43m,\u001b[49m\u001b[43m \u001b[49m\u001b[38;5;124;43m'\u001b[39;49m\u001b[38;5;124;43mr\u001b[39;49m\u001b[38;5;124;43m'\u001b[39;49m\u001b[43m)\u001b[49m \u001b[38;5;28;01mas\u001b[39;00m file:\n\u001b[1;32m      8\u001b[0m         lines \u001b[38;5;241m=\u001b[39m file\u001b[38;5;241m.\u001b[39mreadlines()\n\u001b[1;32m      9\u001b[0m         \u001b[38;5;66;03m# Find the first line that doesn't start with '@' (assuming it's the header)\u001b[39;00m\n",
      "File \u001b[0;32m~/.local/lib/python3.8/site-packages/IPython/core/interactiveshell.py:284\u001b[0m, in \u001b[0;36m_modified_open\u001b[0;34m(file, *args, **kwargs)\u001b[0m\n\u001b[1;32m    277\u001b[0m \u001b[38;5;28;01mif\u001b[39;00m file \u001b[38;5;129;01min\u001b[39;00m {\u001b[38;5;241m0\u001b[39m, \u001b[38;5;241m1\u001b[39m, \u001b[38;5;241m2\u001b[39m}:\n\u001b[1;32m    278\u001b[0m     \u001b[38;5;28;01mraise\u001b[39;00m \u001b[38;5;167;01mValueError\u001b[39;00m(\n\u001b[1;32m    279\u001b[0m         \u001b[38;5;124mf\u001b[39m\u001b[38;5;124m\"\u001b[39m\u001b[38;5;124mIPython won\u001b[39m\u001b[38;5;124m'\u001b[39m\u001b[38;5;124mt let you open fd=\u001b[39m\u001b[38;5;132;01m{\u001b[39;00mfile\u001b[38;5;132;01m}\u001b[39;00m\u001b[38;5;124m by default \u001b[39m\u001b[38;5;124m\"\u001b[39m\n\u001b[1;32m    280\u001b[0m         \u001b[38;5;124m\"\u001b[39m\u001b[38;5;124mas it is likely to crash IPython. If you know what you are doing, \u001b[39m\u001b[38;5;124m\"\u001b[39m\n\u001b[1;32m    281\u001b[0m         \u001b[38;5;124m\"\u001b[39m\u001b[38;5;124myou can use builtins\u001b[39m\u001b[38;5;124m'\u001b[39m\u001b[38;5;124m open.\u001b[39m\u001b[38;5;124m\"\u001b[39m\n\u001b[1;32m    282\u001b[0m     )\n\u001b[0;32m--> 284\u001b[0m \u001b[38;5;28;01mreturn\u001b[39;00m \u001b[43mio_open\u001b[49m\u001b[43m(\u001b[49m\u001b[43mfile\u001b[49m\u001b[43m,\u001b[49m\u001b[43m \u001b[49m\u001b[38;5;241;43m*\u001b[39;49m\u001b[43margs\u001b[49m\u001b[43m,\u001b[49m\u001b[43m \u001b[49m\u001b[38;5;241;43m*\u001b[39;49m\u001b[38;5;241;43m*\u001b[39;49m\u001b[43mkwargs\u001b[49m\u001b[43m)\u001b[49m\n",
      "\u001b[0;31mFileNotFoundError\u001b[0m: [Errno 2] No such file or directory: '/mnt/data/goldstandard_low_1.profile.txt'"
     ]
    }
   ],
   "source": [
    "import pandas as pd\n",
    "\n",
    "# Function to read and preprocess the data\n",
    "def read_data(file_path):\n",
    "    # Skip metadata lines and read the file\n",
    "    with open(file_path, 'r') as file:\n",
    "        lines = file.readlines()\n",
    "        # Find the first line that doesn't start with '@' (assuming it's the header)\n",
    "        for i, line in enumerate(lines):\n",
    "            if not line.startswith('@'):\n",
    "                header_index = i\n",
    "                break\n",
    "        # Read the data starting from the header line\n",
    "        df = pd.read_csv(file_path, sep='\\t', skiprows=header_index)\n",
    "    return df\n",
    "\n",
    "# Read the gold standard file\n",
    "gold_standard_path = 'data/goldstandard_low_1.profile.txt'\n",
    "gold_standard = read_data(gold_standard_path)\n",
    "\n",
    "# Ensure TAXID is of integer type in the gold standard DataFrame\n",
    "gold_standard['TAXID'] = gold_standard['TAXID'].astype(int)\n",
    "\n",
    "# Normalize function\n",
    "def normalize_data(df, gold_df):\n",
    "    # Ensure the key columns for merging exist\n",
    "    if 'TAXID' not in df.columns or 'PERCENTAGE' not in df.columns:\n",
    "        print(f\"Columns found in data: {df.columns}\")\n",
    "        raise ValueError(\"Required columns are missing in the dataframe\")\n",
    "    if 'TAXID' not in gold_df.columns or 'PERCENTAGE' not in gold_df.columns:\n",
    "        print(f\"Columns found in gold standard: {gold_df.columns}\")\n",
    "        raise ValueError(\"Required columns are missing in the gold standard dataframe\")\n",
    "    \n",
    "    # Ensure TAXID is of integer type in the current DataFrame\n",
    "    df['TAXID'] = df['TAXID'].astype(int)\n",
    "    \n",
    "    # Merge with the gold standard on TAXID to get the gold standard percentages\n",
    "    normalized_df = pd.merge(df, gold_df[['TAXID', 'PERCENTAGE']], on='TAXID', how='left', suffixes=('', '_gold'))\n",
    "    # Calculate the new normalized percentage\n",
    "    normalized_df['PERCENTAGE_normalized'] = normalized_df['PERCENTAGE'] * (normalized_df['PERCENTAGE_gold'] / normalized_df['PERCENTAGE'].sum())\n",
    "    # Return only necessary columns\n",
    "    normalized_df = normalized_df[['TAXID', 'RANK', 'TAXPATH', 'TAXPATHSN', 'PERCENTAGE_normalized']]\n",
    "    return normalized_df\n",
    "\n",
    "# List of your data files\n",
    "files = [\n",
    "    'data/B_C8.tsv',\n",
    "    'data/B_C16.tsv',\n",
    "    'data/B_PlusPF.tsv',\n",
    "    'data/K_C8.tsv',\n",
    "    'data/K_C16.tsv',\n",
    "    'data/K_PlusPF.tsv',\n",
    "    'data/M_UC.tsv'\n",
    "]\n",
    "\n",
    "# Process each file\n",
    "for file_path in files:\n",
    "    df = read_data(file_path)\n",
    "    try:\n",
    "        normalized_df = normalize_data(df, gold_standard)\n",
    "        # Save the normalized data to a new TSV file\n",
    "        normalized_df.to_csv(file_path.replace('.tsv', '_normalized.tsv'), sep='\\t', index=False)\n",
    "        print(f\"Normalization complete for {file_path}\")\n",
    "    except ValueError as e:\n",
    "        print(f\"Error processing {file_path}: {e}\")\n",
    "\n",
    "print(\"Normalization complete and files saved.\")\n"
   ]
  },
  {
   "cell_type": "markdown",
   "metadata": {},
   "source": []
  }
 ],
 "metadata": {
  "kernelspec": {
   "display_name": "Python 3",
   "language": "python",
   "name": "python3"
  },
  "language_info": {
   "codemirror_mode": {
    "name": "ipython",
    "version": 3
   },
   "file_extension": ".py",
   "mimetype": "text/x-python",
   "name": "python",
   "nbconvert_exporter": "python",
   "pygments_lexer": "ipython3",
   "version": "3.8.10"
  }
 },
 "nbformat": 4,
 "nbformat_minor": 2
}
